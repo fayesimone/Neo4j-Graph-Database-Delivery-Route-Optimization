{
 "cells": [
  {
   "cell_type": "code",
   "execution_count": 2,
   "id": "b252e6fb",
   "metadata": {},
   "outputs": [],
   "source": [
    "import neo4j\n",
    "\n",
    "import csv\n",
    "\n",
    "import math\n",
    "import numpy as np\n",
    "import pandas as pd\n",
    "\n",
    "import psycopg2"
   ]
  },
  {
   "cell_type": "code",
   "execution_count": 3,
   "id": "fc513073",
   "metadata": {},
   "outputs": [],
   "source": [
    "driver = neo4j.GraphDatabase.driver(uri=\"neo4j://neo4j:7687\", auth=(\"neo4j\",\"ucb_mids_w205\"))"
   ]
  },
  {
   "cell_type": "code",
   "execution_count": 4,
   "id": "5bd04d1f",
   "metadata": {},
   "outputs": [],
   "source": [
    "session = driver.session(database=\"neo4j\")"
   ]
  },
  {
   "cell_type": "code",
   "execution_count": 5,
   "id": "8d23d863",
   "metadata": {},
   "outputs": [],
   "source": [
    "def my_neo4j_run_query_pandas(query, **kwargs):\n",
    "    \"run a query and return the results in a pandas dataframe\"\n",
    "    \n",
    "    result = session.run(query, **kwargs)\n",
    "    \n",
    "    df = pd.DataFrame([r.values() for r in result], columns=result.keys())\n",
    "    \n",
    "    return df"
   ]
  },
  {
   "cell_type": "code",
   "execution_count": 6,
   "id": "50e8da53",
   "metadata": {},
   "outputs": [],
   "source": [
    "def my_neo4j_wipe_out_mst_relationships():\n",
    "    \"wipe out mst relationships\"\n",
    "    \n",
    "    query = \"match (node)-[relationship:MST]->() delete relationship\"\n",
    "    session.run(query)"
   ]
  },
  {
   "cell_type": "markdown",
   "id": "238112e6",
   "metadata": {},
   "source": [
    "### Minimum Spanning Tree"
   ]
  },
  {
   "cell_type": "code",
   "execution_count": 7,
   "id": "faa91ee2",
   "metadata": {},
   "outputs": [],
   "source": [
    "my_neo4j_wipe_out_mst_relationships()"
   ]
  },
  {
   "cell_type": "code",
   "execution_count": 20,
   "id": "8ba0f191",
   "metadata": {},
   "outputs": [
    {
     "data": {
      "text/plain": [
       "<neo4j._sync.work.result.Result at 0x7f64e493ee50>"
      ]
     },
     "execution_count": 20,
     "metadata": {},
     "output_type": "execute_result"
    }
   ],
   "source": [
    "query = \"CALL gds.graph.drop('ds_graph', false)\"\n",
    "session.run(query)\n",
    "\n",
    "query = \"\"\"\n",
    "\n",
    "CALL gds.graph.project('ds_graph', 'Station', \n",
    "                        {\n",
    "                            LINK: {\n",
    "                                properties: 'weight',\n",
    "                                orientation: 'UNDIRECTED'\n",
    "                            }\n",
    "                        }\n",
    "                       )\n",
    "\n",
    "\"\"\"\n",
    "\n",
    "session.run(query)"
   ]
  },
  {
   "cell_type": "code",
   "execution_count": 21,
   "id": "8f1b24bb",
   "metadata": {},
   "outputs": [
    {
     "data": {
      "text/html": [
       "<div>\n",
       "<style scoped>\n",
       "    .dataframe tbody tr th:only-of-type {\n",
       "        vertical-align: middle;\n",
       "    }\n",
       "\n",
       "    .dataframe tbody tr th {\n",
       "        vertical-align: top;\n",
       "    }\n",
       "\n",
       "    .dataframe thead th {\n",
       "        text-align: right;\n",
       "    }\n",
       "</style>\n",
       "<table border=\"1\" class=\"dataframe\">\n",
       "  <thead>\n",
       "    <tr style=\"text-align: right;\">\n",
       "      <th></th>\n",
       "      <th>preProcessingMillis</th>\n",
       "      <th>computeMillis</th>\n",
       "      <th>writeMillis</th>\n",
       "      <th>effectiveNodeCount</th>\n",
       "    </tr>\n",
       "  </thead>\n",
       "  <tbody>\n",
       "  </tbody>\n",
       "</table>\n",
       "</div>"
      ],
      "text/plain": [
       "Empty DataFrame\n",
       "Columns: [preProcessingMillis, computeMillis, writeMillis, effectiveNodeCount]\n",
       "Index: []"
      ]
     },
     "execution_count": 21,
     "metadata": {},
     "output_type": "execute_result"
    }
   ],
   "source": [
    "query = \"\"\"\n",
    "\n",
    "MATCH (n:Station {name: $source})\n",
    "CALL gds.beta.spanningTree.write('ds_graph',\n",
    "                                          {sourceNode: id(n),\n",
    "                                           relationshipWeightProperty: 'weight',\n",
    "                                           writeProperty: 'writeCost',\n",
    "                                           writeRelationshipType: 'MST'\n",
    "                                          }\n",
    "                                         )\n",
    "YIELD preProcessingMillis, computeMillis, writeMillis, effectiveNodeCount\n",
    "RETURN preProcessingMillis, computeMillis, writeMillis, effectiveNodeCount;\n",
    "\n",
    "\"\"\"\n",
    "\n",
    "source = \"Dublin\"\n",
    "\n",
    "my_neo4j_run_query_pandas(query, source=source)"
   ]
  },
  {
   "cell_type": "code",
   "execution_count": 22,
   "id": "f907c614",
   "metadata": {},
   "outputs": [
    {
     "data": {
      "text/html": [
       "<div>\n",
       "<style scoped>\n",
       "    .dataframe tbody tr th:only-of-type {\n",
       "        vertical-align: middle;\n",
       "    }\n",
       "\n",
       "    .dataframe tbody tr th {\n",
       "        vertical-align: top;\n",
       "    }\n",
       "\n",
       "    .dataframe thead th {\n",
       "        text-align: right;\n",
       "    }\n",
       "</style>\n",
       "<table border=\"1\" class=\"dataframe\">\n",
       "  <thead>\n",
       "    <tr style=\"text-align: right;\">\n",
       "      <th></th>\n",
       "      <th>source</th>\n",
       "      <th>destination</th>\n",
       "      <th>cost</th>\n",
       "    </tr>\n",
       "  </thead>\n",
       "  <tbody>\n",
       "  </tbody>\n",
       "</table>\n",
       "</div>"
      ],
      "text/plain": [
       "Empty DataFrame\n",
       "Columns: [source, destination, cost]\n",
       "Index: []"
      ]
     },
     "execution_count": 22,
     "metadata": {},
     "output_type": "execute_result"
    }
   ],
   "source": [
    "query = \"\"\"\n",
    "\n",
    "MATCH path = (n:Station {name: $source})-[:MST*]-()\n",
    "WITH relationships(path) AS rels\n",
    "UNWIND rels AS rel\n",
    "WITH DISTINCT rel AS rel\n",
    "RETURN startNode(rel).name AS source, endNode(rel).name AS destination, rel.writeCost AS cost\n",
    "\n",
    "\"\"\"\n",
    "\n",
    "source = \"Dublin\"\n",
    "\n",
    "my_neo4j_run_query_pandas(query, source=source)"
   ]
  },
  {
   "cell_type": "markdown",
   "id": "e521c6f6",
   "metadata": {},
   "source": [
    "### Louvain Modularity"
   ]
  },
  {
   "cell_type": "code",
   "execution_count": 8,
   "id": "ae55af9e",
   "metadata": {},
   "outputs": [
    {
     "data": {
      "text/plain": [
       "<neo4j._sync.work.result.Result at 0x7f84d9ba3820>"
      ]
     },
     "execution_count": 8,
     "metadata": {},
     "output_type": "execute_result"
    }
   ],
   "source": [
    "query = \"CALL gds.graph.drop('ds_graph', false)\"\n",
    "session.run(query)\n",
    "\n",
    "query = \"\"\"\n",
    "\n",
    "CALL gds.graph.project('ds_graph', 'Station', 'LINK', \n",
    "                      {relationshipProperties: 'weight'})\n",
    "\"\"\"\n",
    "\n",
    "session.run(query)"
   ]
  },
  {
   "cell_type": "code",
   "execution_count": 35,
   "id": "5e865bc7",
   "metadata": {},
   "outputs": [
    {
     "data": {
      "text/html": [
       "<div>\n",
       "<style scoped>\n",
       "    .dataframe tbody tr th:only-of-type {\n",
       "        vertical-align: middle;\n",
       "    }\n",
       "\n",
       "    .dataframe tbody tr th {\n",
       "        vertical-align: top;\n",
       "    }\n",
       "\n",
       "    .dataframe thead th {\n",
       "        text-align: right;\n",
       "    }\n",
       "</style>\n",
       "<table border=\"1\" class=\"dataframe\">\n",
       "  <thead>\n",
       "    <tr style=\"text-align: right;\">\n",
       "      <th></th>\n",
       "      <th>name</th>\n",
       "      <th>community</th>\n",
       "    </tr>\n",
       "  </thead>\n",
       "  <tbody>\n",
       "    <tr>\n",
       "      <th>0</th>\n",
       "      <td>blue Montgomery Street</td>\n",
       "      <td>0</td>\n",
       "    </tr>\n",
       "    <tr>\n",
       "      <th>1</th>\n",
       "      <td>blue Powell Street</td>\n",
       "      <td>0</td>\n",
       "    </tr>\n",
       "    <tr>\n",
       "      <th>2</th>\n",
       "      <td>green Montgomery Street</td>\n",
       "      <td>0</td>\n",
       "    </tr>\n",
       "    <tr>\n",
       "      <th>3</th>\n",
       "      <td>green Powell Street</td>\n",
       "      <td>0</td>\n",
       "    </tr>\n",
       "    <tr>\n",
       "      <th>4</th>\n",
       "      <td>red Montgomery Street</td>\n",
       "      <td>0</td>\n",
       "    </tr>\n",
       "    <tr>\n",
       "      <th>...</th>\n",
       "      <td>...</td>\n",
       "      <td>...</td>\n",
       "    </tr>\n",
       "    <tr>\n",
       "      <th>209</th>\n",
       "      <td>orange Hayward</td>\n",
       "      <td>211</td>\n",
       "    </tr>\n",
       "    <tr>\n",
       "      <th>210</th>\n",
       "      <td>orange Milpitas</td>\n",
       "      <td>211</td>\n",
       "    </tr>\n",
       "    <tr>\n",
       "      <th>211</th>\n",
       "      <td>orange South Hayward</td>\n",
       "      <td>211</td>\n",
       "    </tr>\n",
       "    <tr>\n",
       "      <th>212</th>\n",
       "      <td>orange Union City</td>\n",
       "      <td>211</td>\n",
       "    </tr>\n",
       "    <tr>\n",
       "      <th>213</th>\n",
       "      <td>orange Warm Springs</td>\n",
       "      <td>211</td>\n",
       "    </tr>\n",
       "  </tbody>\n",
       "</table>\n",
       "<p>214 rows × 2 columns</p>\n",
       "</div>"
      ],
      "text/plain": [
       "                        name  community\n",
       "0     blue Montgomery Street          0\n",
       "1         blue Powell Street          0\n",
       "2    green Montgomery Street          0\n",
       "3        green Powell Street          0\n",
       "4      red Montgomery Street          0\n",
       "..                       ...        ...\n",
       "209           orange Hayward        211\n",
       "210          orange Milpitas        211\n",
       "211     orange South Hayward        211\n",
       "212        orange Union City        211\n",
       "213      orange Warm Springs        211\n",
       "\n",
       "[214 rows x 2 columns]"
      ]
     },
     "execution_count": 35,
     "metadata": {},
     "output_type": "execute_result"
    }
   ],
   "source": [
    "query = \"\"\"\n",
    "\n",
    "CALL gds.louvain.stream('ds_graph', { relationshipWeightProperty: 'weight' })\n",
    "YIELD nodeId, communityId, intermediateCommunityIds\n",
    "RETURN gds.util.asNode(nodeId).name AS name, communityId as community\n",
    "ORDER BY community, name ASC\n",
    "\n",
    "\"\"\"\n",
    "\n",
    "my_neo4j_run_query_pandas(query)\n"
   ]
  },
  {
   "cell_type": "code",
   "execution_count": 36,
   "id": "609f7da0",
   "metadata": {},
   "outputs": [],
   "source": [
    "df = my_neo4j_run_query_pandas(query)"
   ]
  },
  {
   "cell_type": "code",
   "execution_count": 37,
   "id": "f0098a65",
   "metadata": {},
   "outputs": [],
   "source": [
    "df = df[df[\"name\"].str.contains(\"arrive\") == False] \n",
    "df = df[df[\"name\"].str.contains(\"depart\") == False] "
   ]
  },
  {
   "cell_type": "code",
   "execution_count": 42,
   "id": "b47d141b",
   "metadata": {},
   "outputs": [
    {
     "data": {
      "text/plain": [
       "211    16\n",
       "43     14\n",
       "204    14\n",
       "188    11\n",
       "173    10\n",
       "0       8\n",
       "2       8\n",
       "165     8\n",
       "196     8\n",
       "17      7\n",
       "8       6\n",
       "33      4\n",
       "Name: community, dtype: int64"
      ]
     },
     "execution_count": 42,
     "metadata": {},
     "output_type": "execute_result"
    }
   ],
   "source": [
    "df.community.value_counts()"
   ]
  },
  {
   "cell_type": "code",
   "execution_count": 51,
   "id": "f939c446",
   "metadata": {},
   "outputs": [
    {
     "data": {
      "text/html": [
       "<div>\n",
       "<style scoped>\n",
       "    .dataframe tbody tr th:only-of-type {\n",
       "        vertical-align: middle;\n",
       "    }\n",
       "\n",
       "    .dataframe tbody tr th {\n",
       "        vertical-align: top;\n",
       "    }\n",
       "\n",
       "    .dataframe thead th {\n",
       "        text-align: right;\n",
       "    }\n",
       "</style>\n",
       "<table border=\"1\" class=\"dataframe\">\n",
       "  <thead>\n",
       "    <tr style=\"text-align: right;\">\n",
       "      <th></th>\n",
       "      <th>name</th>\n",
       "      <th>community</th>\n",
       "    </tr>\n",
       "  </thead>\n",
       "  <tbody>\n",
       "    <tr>\n",
       "      <th>156</th>\n",
       "      <td>blue Daly City</td>\n",
       "      <td>173</td>\n",
       "    </tr>\n",
       "    <tr>\n",
       "      <th>158</th>\n",
       "      <td>green Daly City</td>\n",
       "      <td>173</td>\n",
       "    </tr>\n",
       "    <tr>\n",
       "      <th>161</th>\n",
       "      <td>red Daly City</td>\n",
       "      <td>173</td>\n",
       "    </tr>\n",
       "    <tr>\n",
       "      <th>164</th>\n",
       "      <td>yellow Daly City</td>\n",
       "      <td>173</td>\n",
       "    </tr>\n",
       "  </tbody>\n",
       "</table>\n",
       "</div>"
      ],
      "text/plain": [
       "                 name  community\n",
       "156    blue Daly City        173\n",
       "158   green Daly City        173\n",
       "161     red Daly City        173\n",
       "164  yellow Daly City        173"
      ]
     },
     "execution_count": 51,
     "metadata": {},
     "output_type": "execute_result"
    }
   ],
   "source": [
    "df[df[\"name\"].str.contains(\"Daly City\") == True] "
   ]
  },
  {
   "cell_type": "code",
   "execution_count": 39,
   "id": "2d08e690",
   "metadata": {},
   "outputs": [
    {
     "data": {
      "text/html": [
       "<div>\n",
       "<style scoped>\n",
       "    .dataframe tbody tr th:only-of-type {\n",
       "        vertical-align: middle;\n",
       "    }\n",
       "\n",
       "    .dataframe tbody tr th {\n",
       "        vertical-align: top;\n",
       "    }\n",
       "\n",
       "    .dataframe thead th {\n",
       "        text-align: right;\n",
       "    }\n",
       "</style>\n",
       "<table border=\"1\" class=\"dataframe\">\n",
       "  <thead>\n",
       "    <tr style=\"text-align: right;\">\n",
       "      <th></th>\n",
       "      <th>name</th>\n",
       "      <th>community</th>\n",
       "    </tr>\n",
       "  </thead>\n",
       "  <tbody>\n",
       "    <tr>\n",
       "      <th>19</th>\n",
       "      <td>yellow Pittsburg</td>\n",
       "      <td>8</td>\n",
       "    </tr>\n",
       "    <tr>\n",
       "      <th>20</th>\n",
       "      <td>yellow Pittsburg Center</td>\n",
       "      <td>8</td>\n",
       "    </tr>\n",
       "  </tbody>\n",
       "</table>\n",
       "</div>"
      ],
      "text/plain": [
       "                       name  community\n",
       "19         yellow Pittsburg          8\n",
       "20  yellow Pittsburg Center          8"
      ]
     },
     "execution_count": 39,
     "metadata": {},
     "output_type": "execute_result"
    }
   ],
   "source": [
    "df[df[\"name\"].str.contains(\"Pittsburg\") == True] "
   ]
  }
 ],
 "metadata": {
  "kernelspec": {
   "display_name": "Python 3 (ipykernel)",
   "language": "python",
   "name": "python3"
  },
  "language_info": {
   "codemirror_mode": {
    "name": "ipython",
    "version": 3
   },
   "file_extension": ".py",
   "mimetype": "text/x-python",
   "name": "python",
   "nbconvert_exporter": "python",
   "pygments_lexer": "ipython3",
   "version": "3.9.7"
  }
 },
 "nbformat": 4,
 "nbformat_minor": 5
}
